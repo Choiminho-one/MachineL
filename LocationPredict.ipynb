{
  "nbformat": 4,
  "nbformat_minor": 0,
  "metadata": {
    "colab": {
      "name": "Untitled14.ipynb",
      "provenance": [],
      "authorship_tag": "ABX9TyNiG4Eav+Lm66PXVFcmwNwa",
      "include_colab_link": true
    },
    "kernelspec": {
      "name": "python3",
      "display_name": "Python 3"
    },
    "language_info": {
      "name": "python"
    }
  },
  "cells": [
    {
      "cell_type": "markdown",
      "metadata": {
        "id": "view-in-github",
        "colab_type": "text"
      },
      "source": [
        "<a href=\"https://colab.research.google.com/github/Choiminho-one/MachineL/blob/main/LocationPredict.ipynb\" target=\"_parent\"><img src=\"https://colab.research.google.com/assets/colab-badge.svg\" alt=\"Open In Colab\"/></a>"
      ]
    },
    {
      "cell_type": "markdown",
      "metadata": {
        "id": "Dfd-p_cIiksp"
      },
      "source": [
        "**실제지도를 분석하여 \n",
        "가구를 기준으로 주변 가구수를 계산하는 알고리즘 대신 랜덤 데이터를 생성하겠다.**"
      ]
    },
    {
      "cell_type": "code",
      "metadata": {
        "id": "CB_xRm2asgrs"
      },
      "source": [
        "import numpy as np\n",
        "import random"
      ],
      "execution_count": 34,
      "outputs": []
    },
    {
      "cell_type": "markdown",
      "metadata": {
        "id": "YjleLyLypeUN"
      },
      "source": [
        "**1000개의 지점에서의 주변가구수를 랜덤으로 생성하고 가장 높은 지점을 찾는다**"
      ]
    },
    {
      "cell_type": "code",
      "metadata": {
        "id": "StLB0bKyhAFn"
      },
      "source": [
        "n_house = np.random.rand(100, 100)"
      ],
      "execution_count": 103,
      "outputs": []
    },
    {
      "cell_type": "code",
      "metadata": {
        "colab": {
          "base_uri": "https://localhost:8080/"
        },
        "id": "5hr1MvVqhRGo",
        "outputId": "dbd3f605-5ed2-408b-b6e7-f07d3fbf4285"
      },
      "source": [
        "np.argmax(n_house)"
      ],
      "execution_count": 104,
      "outputs": [
        {
          "output_type": "execute_result",
          "data": {
            "text/plain": [
              "6787"
            ]
          },
          "metadata": {
            "tags": []
          },
          "execution_count": 104
        }
      ]
    },
    {
      "cell_type": "markdown",
      "metadata": {
        "id": "wwReH04R1jeM"
      },
      "source": [
        "**SNS 컬렉터를 이용하여 SNS에서 스타벅스 관련 매장 태그수 수집 대신 랜덤 데이터 생성**"
      ]
    },
    {
      "cell_type": "code",
      "metadata": {
        "id": "qPD5djf31jF2"
      },
      "source": [
        "n_tag = np.random.rand(100, 100)"
      ],
      "execution_count": 105,
      "outputs": []
    },
    {
      "cell_type": "markdown",
      "metadata": {
        "id": "VVzHH48P643b"
      },
      "source": [
        "**태그수 가중치를 낮춰서 주변 가구수와 더한다**"
      ]
    },
    {
      "cell_type": "code",
      "metadata": {
        "id": "swxhYcLD3_br"
      },
      "source": [
        "n_total = n_house + n_tag*0.1"
      ],
      "execution_count": 136,
      "outputs": []
    },
    {
      "cell_type": "markdown",
      "metadata": {
        "id": "oq4NzVXo7DhD"
      },
      "source": [
        "**매출에 영향을 주는 기준을 추가함에 따라 최적의 지점이 바뀐것을 확인**"
      ]
    },
    {
      "cell_type": "code",
      "metadata": {
        "colab": {
          "base_uri": "https://localhost:8080/"
        },
        "id": "qwEFcCx44Yd3",
        "outputId": "875e759f-7942-49c6-d913-3acab28eb80a"
      },
      "source": [
        "np.argmax(n_total)"
      ],
      "execution_count": 137,
      "outputs": [
        {
          "output_type": "execute_result",
          "data": {
            "text/plain": [
              "2824"
            ]
          },
          "metadata": {
            "tags": []
          },
          "execution_count": 137
        }
      ]
    },
    {
      "cell_type": "code",
      "metadata": {
        "colab": {
          "base_uri": "https://localhost:8080/"
        },
        "id": "NYSN9i83BgFY",
        "outputId": "da954cc9-164c-4cdb-db98-51b5b3b55741"
      },
      "source": [
        "x = np.argmax(n_total)//100\n",
        "y = np.argmax(n_total)%100\n",
        "print(f'{x}.{y}')"
      ],
      "execution_count": 133,
      "outputs": [
        {
          "output_type": "stream",
          "text": [
            "28.24\n"
          ],
          "name": "stdout"
        }
      ]
    },
    {
      "cell_type": "code",
      "metadata": {
        "colab": {
          "base_uri": "https://localhost:8080/"
        },
        "id": "bRgB5KVY8_Go",
        "outputId": "8f48a430-f32b-461f-dcde-e667d28157b5"
      },
      "source": [
        "total_max = np.max(n_total)*1000\n",
        "print(total_max)\n",
        "print(n_total[x,y]*1000)"
      ],
      "execution_count": 134,
      "outputs": [
        {
          "output_type": "stream",
          "text": [
            "1095.616088595594\n",
            "1095.616088595594\n"
          ],
          "name": "stdout"
        }
      ]
    },
    {
      "cell_type": "markdown",
      "metadata": {
        "id": "PRE4g5J187Bt"
      },
      "source": [
        "**가구당 인구수 = 2.4(출처 - 통계청), 일일 커피 섭취량 = 2잔 (출처 : 식품안전처)\n",
        "하루 매출 계산**"
      ]
    },
    {
      "cell_type": "code",
      "metadata": {
        "colab": {
          "base_uri": "https://localhost:8080/"
        },
        "id": "J1JxqRQPC8Yy",
        "outputId": "ace0086f-c5a0-46f1-b058-43de14f2c71a"
      },
      "source": [
        "v_sale = total_max*2.4*2*3000\n",
        "print(f'{round(v_sale)}원')"
      ],
      "execution_count": 140,
      "outputs": [
        {
          "output_type": "stream",
          "text": [
            "15776872원\n"
          ],
          "name": "stdout"
        }
      ]
    }
  ]
}